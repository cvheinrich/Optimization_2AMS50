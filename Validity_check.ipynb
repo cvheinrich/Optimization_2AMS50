{
 "cells": [
  {
   "cell_type": "code",
   "execution_count": 1,
   "metadata": {},
   "outputs": [],
   "source": [
    "import gurobipy as gp"
   ]
  },
  {
   "cell_type": "code",
   "execution_count": 6,
   "metadata": {},
   "outputs": [],
   "source": [
    "def get_num_districts(state):\n",
    "\n",
    "    return None"
   ]
  },
  {
   "cell_type": "code",
   "execution_count": 16,
   "metadata": {},
   "outputs": [
    {
     "data": {
      "text/plain": [
       "2"
      ]
     },
     "execution_count": 16,
     "metadata": {},
     "output_type": "execute_result"
    }
   ],
   "source": [
    "state = 'RI'\n",
    "filename = \"districting_2020\\\\2020\\\\{}\\\\counties\\\\graph\\\\{}.population\".format(state, state)\n",
    "\n",
    "\n",
    "with open('Numberofdistricts.txt', 'r') as file:\n",
    "    for line in file:\n",
    "        parts = line.strip().split('\\t')\n",
    "        if parts[0] == state:\n",
    "            num_districts =  int(parts[1])\n",
    "\n",
    "with open(filename, \"r\") as file:\n",
    "    # Skip the first line\n",
    "    next(file)\n",
    "    # Count the number of lines, each line represents a county\n",
    "    num_counties = sum(1 for line in file)\n",
    "\n"
   ]
  },
  {
   "cell_type": "code",
   "execution_count": 19,
   "metadata": {},
   "outputs": [],
   "source": [
    "# Model\n",
    "m = gp.Model(\"district\")\n",
    "\n",
    "state = 'RI'\n",
    "adjacency_matrix_file = r'districting_2020\\2020\\RI\\counties\\graph\\RI_distances.csv'\n",
    "\n",
    "# Set decision variable x for each node j wether it is in district k\n",
    "for i in range(num_counties):\n",
    "    for j in range(num_districts):\n",
    "        x = m.addVar(vtype=gp.GRB.BINARY, name=\"x_{}_{}\".format(i, j))\n",
    "\n",
    "# Set decision variable y for each pair of nodes i and k, and each district j\n",
    "for i in range(num_counties):\n",
    "    for k in range(num_counties):\n",
    "        for j in range(num_districts):\n",
    "            y = m.addVar(vtype=gp.GRB.BINARY, name=\"y_{}_{}_{}\".format(i, k, j))\n",
    "\n",
    "\n",
    "\n",
    "\n",
    "\n"
   ]
  }
 ],
 "metadata": {
  "kernelspec": {
   "display_name": "Python310",
   "language": "python",
   "name": "python3"
  },
  "language_info": {
   "codemirror_mode": {
    "name": "ipython",
    "version": 3
   },
   "file_extension": ".py",
   "mimetype": "text/x-python",
   "name": "python",
   "nbconvert_exporter": "python",
   "pygments_lexer": "ipython3",
   "version": "3.10.13"
  }
 },
 "nbformat": 4,
 "nbformat_minor": 2
}
