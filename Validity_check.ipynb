{
 "cells": [
  {
   "cell_type": "code",
   "execution_count": 7,
   "metadata": {},
   "outputs": [
    {
     "name": "stdout",
     "output_type": "stream",
     "text": [
      "Defaulting to user installation because normal site-packages is not writeable\n",
      "Requirement already satisfied: gurobipy in c:\\users\\20182366\\appdata\\roaming\\python\\python310\\site-packages (11.0.1)\n",
      "Note: you may need to restart the kernel to use updated packages.\n"
     ]
    },
    {
     "name": "stderr",
     "output_type": "stream",
     "text": [
      "WARNING: You are using pip version 21.2.4; however, version 24.0 is available.\n",
      "You should consider upgrading via the 'c:\\Program Files\\Python310\\python.exe -m pip install --upgrade pip' command.\n"
     ]
    }
   ],
   "source": [
    "pip install gurobipy"
   ]
  },
  {
   "cell_type": "code",
   "execution_count": 9,
   "metadata": {},
   "outputs": [],
   "source": [
    "import gurobipy as gp"
   ]
  },
  {
   "cell_type": "code",
   "execution_count": 4,
   "metadata": {},
   "outputs": [],
   "source": [
    "def get_num_districts(state):\n",
    "\n",
    "    return None"
   ]
  },
  {
   "cell_type": "code",
   "execution_count": 12,
   "metadata": {},
   "outputs": [],
   "source": [
    "state = 'RI'\n",
    "filename = \"districting_2020/{}/counties/graph/{}.population\".format(state, state)\n",
    "\n",
    "\n",
    "with open('Numberofdistricts.txt', 'r') as file:\n",
    "    for line in file:\n",
    "        parts = line.strip().split('\\t')\n",
    "        if parts[0] == state:\n",
    "            num_districts =  int(parts[1])\n",
    "\n",
    "with open(filename, \"r\") as file:\n",
    "    # Skip the first line\n",
    "    next(file)\n",
    "    # Count the number of lines, each line represents a county\n",
    "    num_counties = sum(1 for line in file)\n",
    "\n"
   ]
  },
  {
   "cell_type": "code",
   "execution_count": 13,
   "metadata": {},
   "outputs": [
    {
     "name": "stdout",
     "output_type": "stream",
     "text": [
      "Restricted license - for non-production use only - expires 2025-11-24\n"
     ]
    }
   ],
   "source": [
    "# Model\n",
    "m = gp.Model(\"district\")\n",
    "\n",
    "state = 'RI'\n",
    "adjacency_matrix_file = r'districting_2020\\2020\\RI\\counties\\graph\\RI_distances.csv'\n",
    "\n",
    "# Set decision variable x for each node j wether it is in district k\n",
    "for i in range(num_counties):\n",
    "    for j in range(num_districts):\n",
    "        x = m.addVar(vtype=gp.GRB.BINARY, name=\"x_{}_{}\".format(i, j))\n",
    "\n",
    "# Set decision variable y for each pair of nodes i and k, and each district j\n",
    "for i in range(num_counties):\n",
    "    for k in range(num_counties):\n",
    "        for j in range(num_districts):\n",
    "            y = m.addVar(vtype=gp.GRB.BINARY, name=\"y_{}_{}_{}\".format(i, k, j))\n",
    "\n",
    "\n",
    "\n",
    "\n",
    "\n"
   ]
  }
 ],
 "metadata": {
  "kernelspec": {
   "display_name": "Python310",
   "language": "python",
   "name": "python3"
  },
  "language_info": {
   "codemirror_mode": {
    "name": "ipython",
    "version": 3
   },
   "file_extension": ".py",
   "mimetype": "text/x-python",
   "name": "python",
   "nbconvert_exporter": "python",
   "pygments_lexer": "ipython3",
   "version": "3.10.2"
  }
 },
 "nbformat": 4,
 "nbformat_minor": 2
}
