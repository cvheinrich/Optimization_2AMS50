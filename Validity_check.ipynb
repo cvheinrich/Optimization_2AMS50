{
 "cells": [
  {
   "cell_type": "code",
   "execution_count": 17,
   "metadata": {},
   "outputs": [],
   "source": [
    "import gurobipy as gp\n",
    "from gurobipy import GRB\n",
    "import numpy as np"
   ]
  },
  {
   "cell_type": "code",
   "execution_count": 18,
   "metadata": {},
   "outputs": [
    {
     "data": {
      "text/plain": [
       "<gurobi.Model Continuous instance district: 0 constrs, 0 vars, Parameter changes: Username=(user-defined)>"
      ]
     },
     "execution_count": 18,
     "metadata": {},
     "output_type": "execute_result"
    }
   ],
   "source": [
    "# Model\n",
    "m = gp.Model(\"district\")\n",
    "m"
   ]
  },
  {
   "cell_type": "code",
   "execution_count": 19,
   "metadata": {},
   "outputs": [
    {
     "data": {
      "text/plain": [
       "2"
      ]
     },
     "execution_count": 19,
     "metadata": {},
     "output_type": "execute_result"
    }
   ],
   "source": [
    "state = 'RI'\n",
    "population = \"districting_2020\\\\2020\\\\{}\\\\counties\\\\graph\\\\{}.population\".format(state, state)\n",
    "dimacs = \"districting_2020\\\\2020\\\\{}\\\\counties\\\\graph\\\\{}.dimacs\".format(state, state)\n",
    "\n",
    "with open('Numberofdistricts.txt', 'r') as file:\n",
    "    for line in file:\n",
    "        parts = line.strip().split('\\t')\n",
    "        if parts[0] == state:\n",
    "            num_districts = int(parts[1])\n",
    "\n",
    "\n",
    "with open(population, \"r\") as file:\n",
    "    # Skip the first line\n",
    "    next(file)\n",
    "    # Count the number of lines, each line represents a county\n",
    "    num_counties = sum(1 for line in file)\n",
    "\n",
    "num_districts\n"
   ]
  },
  {
   "cell_type": "code",
   "execution_count": 20,
   "metadata": {},
   "outputs": [
    {
     "data": {
      "text/plain": [
       "[(0, 1), (2, 4), (1, 2), (3, 4), (0, 3), (2, 3), (1, 3)]"
      ]
     },
     "execution_count": 20,
     "metadata": {},
     "output_type": "execute_result"
    }
   ],
   "source": [
    "## Reading distances from file\n",
    "filename = \"districting_2020\\\\2020\\\\{}\\\\counties\\\\graph\\\\{}_distances.csv\".format(state, state)\n",
    "d = np.genfromtxt(filename, delimiter=',', skip_header=1)\n",
    "d = d[:, 1:]\n",
    "\n",
    "## Reading populations from file\n",
    "with open(population, 'r') as file:\n",
    "    # Read the total population from the first line\n",
    "    total_population_line = next(file).strip()  # Removes newline character at the end\n",
    "    total_population = int(total_population_line.split('=')[1].strip())\n",
    "    \n",
    "    # Initialize a dictionary to store the rest of the data\n",
    "    p = {}\n",
    "    \n",
    "    # Iterate over the remaining lines\n",
    "    for line in file:\n",
    "        # Each line is expected to have two values, separated by a space\n",
    "        key, value = line.strip().split()  # Split by whitespace\n",
    "        p[int(key)] = int(value)  # Convert both to integers and store in the dictionary\n",
    "\n",
    "## Reading neighbors from file\n",
    "neighbors = set()\n",
    "with open(dimacs, 'r') as f:\n",
    "    lines = f.readlines()\n",
    "    for line in lines:\n",
    "        if line.startswith('e'):\n",
    "            _, node1, node2 = line.split()\n",
    "            node1 = int(node1)\n",
    "            node2 = int(node2)\n",
    "            if (node1, node2) not in neighbors and (node2, node1) not in neighbors:\n",
    "                neighbors.add((node1, node2))\n",
    "\n",
    "list(neighbors)"
   ]
  },
  {
   "cell_type": "code",
   "execution_count": 27,
   "metadata": {},
   "outputs": [
    {
     "data": {
      "text/plain": [
       "{(0, 1, 0): <gurobi.Var *Awaiting Model Update*>,\n",
       " (0, 1, 1): <gurobi.Var *Awaiting Model Update*>,\n",
       " (2, 4, 0): <gurobi.Var *Awaiting Model Update*>,\n",
       " (2, 4, 1): <gurobi.Var *Awaiting Model Update*>,\n",
       " (1, 2, 0): <gurobi.Var *Awaiting Model Update*>,\n",
       " (1, 2, 1): <gurobi.Var *Awaiting Model Update*>,\n",
       " (3, 4, 0): <gurobi.Var *Awaiting Model Update*>,\n",
       " (3, 4, 1): <gurobi.Var *Awaiting Model Update*>,\n",
       " (0, 3, 0): <gurobi.Var *Awaiting Model Update*>,\n",
       " (0, 3, 1): <gurobi.Var *Awaiting Model Update*>,\n",
       " (2, 3, 0): <gurobi.Var *Awaiting Model Update*>,\n",
       " (2, 3, 1): <gurobi.Var *Awaiting Model Update*>,\n",
       " (1, 3, 0): <gurobi.Var *Awaiting Model Update*>,\n",
       " (1, 3, 1): <gurobi.Var *Awaiting Model Update*>}"
      ]
     },
     "execution_count": 27,
     "metadata": {},
     "output_type": "execute_result"
    }
   ],
   "source": [
    "adjacency_matrix_file = r\"districting_2020\\\\2020\\\\{}\\\\counties\\\\graph\\\\{}_distances.csv\".format(state, state)\n",
    "\n",
    "# Set decision variable x for each node i whether it is in district j\n",
    "x = {}\n",
    "for i in range(num_counties):\n",
    "    for j in range(num_districts):\n",
    "        x[i, j] = m.addVar(vtype=gp.GRB.BINARY, name=\"x_{}_{}\".format(i, j))\n",
    "\n",
    "## Set decision variable y for each edge in neighbors, between nodes i and k, for each district j\n",
    "y = {}\n",
    "for i, k in neighbors:\n",
    "    for j in range(num_districts):\n",
    "        y[i, k, j] = m.addVar(vtype=gp.GRB.BINARY, name=\"y_{}_{}_{}\".format(i, k, j))\n",
    "\n",
    "# for i in range(num_counties):\n",
    "#     for k in range(num_counties):\n",
    "#         for j in range(num_districts):\n",
    "#             y[i, k, j] = m.addVar(vtype=gp.GRB.BINARY, name=\"y_{}_{}_{}\".format(i, k, j))\n",
    "\n",
    "# Set slack variable\n",
    "slack = {}\n",
    "for j in range(num_districts):\n",
    "    slack[j] = m.addVar(obj=1, name=\"slack\")\n",
    "\n",
    "\n",
    "\n",
    "\n",
    "alpha = 1  # Weight of the balanced weight term\n",
    "y\n"
   ]
  },
  {
   "cell_type": "code",
   "execution_count": 28,
   "metadata": {},
   "outputs": [],
   "source": [
    "# Set objective function\n",
    "m.setObjective(gp.quicksum(y[i, k, j] * d[i, k] for i, k in neighbors for j in range(num_districts)) \\\n",
    "             + alpha * (gp.quicksum(slack[j] for j in range(num_districts))), gp.GRB.MINIMIZE)\n"
   ]
  },
  {
   "cell_type": "code",
   "execution_count": 30,
   "metadata": {},
   "outputs": [],
   "source": [
    "## Add constraints\n",
    "\n",
    "# Each edge in neighbors is assigned to exactly one district\n",
    "for i, k in neighbors:\n",
    "    for j in range(num_districts):\n",
    "        m.addConstr(x[i, j] + x[k, j] <= 2 * y[i, k, j] )\n",
    "\n",
    "# Add population constraint with slack variable\n",
    "for j in range(num_districts):\n",
    "    m.addConstr(gp.quicksum(x[i, j] * p[i] for i in range(num_counties)) >= ((total_population / num_districts) - slack[j]))\n",
    "\n",
    "# Each county is assigned to exactly one district\n",
    "for i in range(num_counties):\n",
    "    m.addConstr(gp.quicksum(x[i, j] for j in range(num_districts)) == 1)\n",
    "\n"
   ]
  },
  {
   "cell_type": "code",
   "execution_count": 31,
   "metadata": {},
   "outputs": [
    {
     "name": "stdout",
     "output_type": "stream",
     "text": [
      "Warning: variables 24 and 25 have the same name \"slack\"\n",
      "Warning: to let Gurobi read it back, use rlp format\n"
     ]
    },
    {
     "name": "stdout",
     "output_type": "stream",
     "text": [
      "LP Formulation:\n",
      "\\ Model district\n",
      "\\ LP format - for model browsing. Use MPS format to capture full model detail.\n",
      "Minimize\n",
      "  0 x_0_0 + 0 x_0_1 + 0 x_1_0 + 0 x_1_1 + 0 x_2_0 + 0 x_2_1 + 0 x_3_0\n",
      "   + 0 x_3_1 + 0 x_4_0 + 0 x_4_1 + 0 y_0_1_0 + 0 y_0_1_1 + 0 y_2_4_0\n",
      "   + 0 y_2_4_1 + 0 y_1_2_0 + 0 y_1_2_1 + 0 y_3_4_0 + 0 y_3_4_1 + 0 y_0_3_0\n",
      "   + 0 y_0_3_1 + 0 y_2_3_0 + 0 y_2_3_1 + 0 y_1_3_0 + 0 y_1_3_1 + 0 slack\n",
      "   + 0 slack + 0 x_0_0 + 0 x_0_1 + 0 x_1_0 + 0 x_1_1 + 0 x_2_0 + 0 x_2_1\n",
      "   + 0 x_3_0 + 0 x_3_1 + 0 x_4_0 + 0 x_4_1 + 0 y_0_0_0 + 0 y_0_0_1\n",
      "   + 0 y_0_1_0 + 0 y_0_1_1 + 0 y_0_2_0 + 0 y_0_2_1 + 0 y_0_3_0 + 0 y_0_3_1\n",
      "   + 0 y_0_4_0 + 0 y_0_4_1 + 0 y_1_0_0 + 0 y_1_0_1 + 0 y_1_1_0 + 0 y_1_1_1\n",
      "   + 0 y_1_2_0 + 0 y_1_2_1 + 0 y_1_3_0 + 0 y_1_3_1 + 0 y_1_4_0 + 0 y_1_4_1\n",
      "   + 0 y_2_0_0 + 0 y_2_0_1 + 0 y_2_1_0 + 0 y_2_1_1 + 0 y_2_2_0 + 0 y_2_2_1\n",
      "   + 0 y_2_3_0 + 0 y_2_3_1 + 0 y_2_4_0 + 0 y_2_4_1 + 0 y_3_0_0 + 0 y_3_0_1\n",
      "   + 0 y_3_1_0 + 0 y_3_1_1 + 0 y_3_2_0 + 0 y_3_2_1 + 0 y_3_3_0 + 0 y_3_3_1\n",
      "   + 0 y_3_4_0 + 0 y_3_4_1 + 0 y_4_0_0 + 0 y_4_0_1 + 0 y_4_1_0 + 0 y_4_1_1\n",
      "   + 0 y_4_2_0 + 0 y_4_2_1 + 0 y_4_3_0 + 0 y_4_3_1 + 0 y_4_4_0 + 0 y_4_4_1\n",
      "   + 0 slack + 0 slack + 0 x_0_0 + 0 x_0_1 + 0 x_1_0 + 0 x_1_1 + 0 x_2_0\n",
      "   + 0 x_2_1 + 0 x_3_0 + 0 x_3_1 + 0 x_4_0 + 0 x_4_1 + 0 y_0_1_0\n",
      "   + 0 y_0_1_1 + 0 y_2_4_0 + 0 y_2_4_1 + 0 y_1_2_0 + 0 y_1_2_1 + 0 y_3_4_0\n",
      "   + 0 y_3_4_1 + 0 y_0_3_0 + 0 y_0_3_1 + 0 y_2_3_0 + 0 y_2_3_1 + 0 y_1_3_0\n",
      "   + 0 y_1_3_1 + 0 slack + 0 slack + 0 x_0_0 + 0 x_0_1 + 0 x_1_0 + 0 x_1_1\n",
      "   + 0 x_2_0 + 0 x_2_1 + 0 x_3_0 + 0 x_3_1 + 0 x_4_0 + 0 x_4_1 + 0 y_0_1_0\n",
      "   + 0 y_0_1_1 + 0 y_2_4_0 + 0 y_2_4_1 + 0 y_1_2_0 + 0 y_1_2_1 + 0 y_3_4_0\n",
      "   + 0 y_3_4_1 + 0 y_0_3_0 + 0 y_0_3_1 + 0 y_2_3_0 + 0 y_2_3_1 + 0 y_1_3_0\n",
      "   + 0 y_1_3_1 + 0 slack + 0 slack + 31 y_0_1_0 + 31 y_0_1_1 + 31 y_2_4_0\n",
      "   + 31 y_2_4_1 + 23 y_1_2_0 + 23 y_1_2_1 + 31 y_3_4_0 + 31 y_3_4_1\n",
      "   + 22 y_0_3_0 + 22 y_0_3_1 + 31 y_2_3_0 + 31 y_2_3_1 + 25 y_1_3_0\n",
      "   + 25 y_1_3_1 + slack + slack\n",
      "Subject To\n",
      " R0: x_0_0 + x_1_0 - 2 y_0_1_0 <= 0\n",
      " R1: x_0_1 + x_1_1 - 2 y_0_1_1 <= 0\n",
      " R2: x_2_0 + x_4_0 - 2 y_2_4_0 <= 0\n",
      " R3: x_2_1 + x_4_1 - 2 y_2_4_1 <= 0\n",
      " R4: x_1_0 + x_2_0 - 2 y_1_2_0 <= 0\n",
      " R5: x_1_1 + x_2_1 - 2 y_1_2_1 <= 0\n",
      " R6: x_3_0 + x_4_0 - 2 y_3_4_0 <= 0\n",
      " R7: x_3_1 + x_4_1 - 2 y_3_4_1 <= 0\n",
      " R8: x_0_0 + x_3_0 - 2 y_0_3_0 <= 0\n",
      " R9: x_0_1 + x_3_1 - 2 y_0_3_1 <= 0\n",
      " R10: x_2_0 + x_3_0 - 2 y_2_3_0 <= 0\n",
      " R11: x_2_1 + x_3_1 - 2 y_2_3_1 <= 0\n",
      " R12: x_1_0 + x_3_0 - 2 y_1_3_0 <= 0\n",
      " R13: x_1_1 + x_3_1 - 2 y_1_3_1 <= 0\n",
      " R14: 660741 x_0_0 + 50793 x_1_0 + 85643 x_2_0 + 170363 x_3_0\n",
      "   + 129839 x_4_0 + slack >= 548689.5\n",
      " R15: 660741 x_0_1 + 50793 x_1_1 + 85643 x_2_1 + 170363 x_3_1\n",
      "   + 129839 x_4_1 + slack >= 548689.5\n",
      " R16: x_0_0 + x_0_1 = 1\n",
      " R17: x_1_0 + x_1_1 = 1\n",
      " R18: x_2_0 + x_2_1 = 1\n",
      " R19: x_3_0 + x_3_1 = 1\n",
      " R20: x_4_0 + x_4_1 = 1\n",
      "Bounds\n",
      "Binaries\n",
      " x_0_0 x_0_1 x_1_0 x_1_1 x_2_0 x_2_1 x_3_0 x_3_1 x_4_0 x_4_1 y_0_1_0\n",
      " y_0_1_1 y_2_4_0 y_2_4_1 y_1_2_0 y_1_2_1 y_3_4_0 y_3_4_1 y_0_3_0 y_0_3_1\n",
      " y_2_3_0 y_2_3_1 y_1_3_0 y_1_3_1 x_0_0 x_0_1 x_1_0 x_1_1 x_2_0 x_2_1 x_3_0\n",
      " x_3_1 x_4_0 x_4_1 y_0_0_0 y_0_0_1 y_0_1_0 y_0_1_1 y_0_2_0 y_0_2_1 y_0_3_0\n",
      " y_0_3_1 y_0_4_0 y_0_4_1 y_1_0_0 y_1_0_1 y_1_1_0 y_1_1_1 y_1_2_0 y_1_2_1\n",
      " y_1_3_0 y_1_3_1 y_1_4_0 y_1_4_1 y_2_0_0 y_2_0_1 y_2_1_0 y_2_1_1 y_2_2_0\n",
      " y_2_2_1 y_2_3_0 y_2_3_1 y_2_4_0 y_2_4_1 y_3_0_0 y_3_0_1 y_3_1_0 y_3_1_1\n",
      " y_3_2_0 y_3_2_1 y_3_3_0 y_3_3_1 y_3_4_0 y_3_4_1 y_4_0_0 y_4_0_1 y_4_1_0\n",
      " y_4_1_1 y_4_2_0 y_4_2_1 y_4_3_0 y_4_3_1 y_4_4_0 y_4_4_1 x_0_0 x_0_1 x_1_0\n",
      " x_1_1 x_2_0 x_2_1 x_3_0 x_3_1 x_4_0 x_4_1 y_0_1_0 y_0_1_1 y_2_4_0 y_2_4_1\n",
      " y_1_2_0 y_1_2_1 y_3_4_0 y_3_4_1 y_0_3_0 y_0_3_1 y_2_3_0 y_2_3_1 y_1_3_0\n",
      " y_1_3_1 x_0_0 x_0_1 x_1_0 x_1_1 x_2_0 x_2_1 x_3_0 x_3_1 x_4_0 x_4_1\n",
      " y_0_1_0 y_0_1_1 y_2_4_0 y_2_4_1 y_1_2_0 y_1_2_1 y_3_4_0 y_3_4_1 y_0_3_0\n",
      " y_0_3_1 y_2_3_0 y_2_3_1 y_1_3_0 y_1_3_1 x_0_0 x_0_1 x_1_0 x_1_1 x_2_0\n",
      " x_2_1 x_3_0 x_3_1 x_4_0 x_4_1 y_0_1_0 y_0_1_1 y_2_4_0 y_2_4_1 y_1_2_0\n",
      " y_1_2_1 y_3_4_0 y_3_4_1 y_0_3_0 y_0_3_1 y_2_3_0 y_2_3_1 y_1_3_0 y_1_3_1\n",
      "End\n",
      "\n",
      "Gurobi Optimizer version 11.0.0 build v11.0.0rc2 (win64 - Windows 11.0 (22000.2))\n",
      "\n",
      "CPU model: Intel(R) Core(TM) i7-7700HQ CPU @ 2.80GHz, instruction set [SSE2|AVX|AVX2]\n",
      "Thread count: 4 physical cores, 8 logical processors, using up to 8 threads\n",
      "\n",
      "Optimize a model with 21 rows, 166 columns and 64 nonzeros\n",
      "Model fingerprint: 0x1d1c37b3\n",
      "Variable types: 10 continuous, 156 integer (156 binary)\n",
      "Coefficient statistics:\n",
      "  Matrix range     [1e+00, 7e+05]\n",
      "  Objective range  [1e+00, 3e+01]\n",
      "  Bounds range     [1e+00, 1e+00]\n",
      "  RHS range        [1e+00, 5e+05]\n",
      "Found heuristic solution: objective 282726.50000\n",
      "Presolve removed 6 rows and 144 columns\n",
      "Presolve time: 0.02s\n",
      "Presolved: 15 rows, 22 columns, 50 nonzeros\n",
      "Variable types: 3 continuous, 19 integer (19 binary)\n",
      "\n",
      "Root relaxation: objective 1.122455e+05, 17 iterations, 0.00 seconds (0.00 work units)\n",
      "\n",
      "    Nodes    |    Current Node    |     Objective Bounds      |     Work\n",
      " Expl Unexpl |  Obj  Depth IntInf | Incumbent    BestBd   Gap | It/Node Time\n",
      "\n",
      "     0     0 112245.500    0    5 282726.500 112245.500  60.3%     -    0s\n",
      "     0     0 112267.500    0    9 282726.500 112267.500  60.3%     -    0s\n",
      "H    0     0                    248790.50000 112267.500  54.9%     -    0s\n",
      "H    0     0                    163108.50000 112267.500  31.2%     -    0s\n",
      "H    0     0                    112298.50000 112267.500  0.03%     -    0s\n",
      "\n",
      "Cutting planes:\n",
      "  Gomory: 1\n",
      "  Cover: 6\n",
      "  Clique: 3\n",
      "  Relax-and-lift: 1\n",
      "\n",
      "Explored 1 nodes (22 simplex iterations) in 0.09 seconds (0.00 work units)\n",
      "Thread count was 8 (of 8 available processors)\n",
      "\n",
      "Solution count 4: 112299 163108 248791 282727 \n",
      "\n",
      "Optimal solution found (tolerance 1.00e-04)\n",
      "Best objective 1.122985000000e+05, best bound 1.122985000000e+05, gap 0.0000%\n"
     ]
    }
   ],
   "source": [
    "# Write LP formulation to a file\n",
    "m.write(\"districts.lp\")\n",
    "\n",
    "# Read the LP formulation from the file\n",
    "with open(\"districts.lp\", \"r\") as f:\n",
    "    lp_formulation = f.read()\n",
    "\n",
    "# Print LP formulation\n",
    "print(\"LP Formulation:\")\n",
    "print(lp_formulation)\n",
    "\n",
    "# Solve\n",
    "m.optimize()"
   ]
  },
  {
   "cell_type": "code",
   "execution_count": 32,
   "metadata": {},
   "outputs": [
    {
     "name": "stdout",
     "output_type": "stream",
     "text": [
      "Gurobi Optimizer version 11.0.0 build v11.0.0rc2 (win64 - Windows 11.0 (22000.2))\n",
      "\n",
      "CPU model: Intel(R) Core(TM) i7-7700HQ CPU @ 2.80GHz, instruction set [SSE2|AVX|AVX2]\n",
      "Thread count: 4 physical cores, 8 logical processors, using up to 8 threads\n",
      "\n",
      "Optimize a model with 21 rows, 166 columns and 64 nonzeros\n",
      "Model fingerprint: 0x1d1c37b3\n",
      "Variable types: 10 continuous, 156 integer (156 binary)\n",
      "Coefficient statistics:\n",
      "  Matrix range     [1e+00, 7e+05]\n",
      "  Objective range  [1e+00, 3e+01]\n",
      "  Bounds range     [1e+00, 1e+00]\n",
      "  RHS range        [1e+00, 5e+05]\n",
      "Presolved: 15 rows, 22 columns, 50 nonzeros\n",
      "\n",
      "Continuing optimization...\n",
      "\n",
      "\n",
      "Cutting planes:\n",
      "  Gomory: 1\n",
      "  Cover: 6\n",
      "  Clique: 3\n",
      "  Relax-and-lift: 1\n",
      "\n",
      "Explored 1 nodes (22 simplex iterations) in 0.03 seconds (0.00 work units)\n",
      "Thread count was 8 (of 8 available processors)\n",
      "\n",
      "Solution count 4: 112299 163108 248791 282727 \n",
      "\n",
      "Optimal solution found (tolerance 1.00e-04)\n",
      "Best objective 1.122985000000e+05, best bound 1.122985000000e+05, gap 0.0000%\n"
     ]
    }
   ],
   "source": [
    "# Solve\n",
    "m.optimize()"
   ]
  },
  {
   "cell_type": "code",
   "execution_count": 33,
   "metadata": {},
   "outputs": [
    {
     "name": "stdout",
     "output_type": "stream",
     "text": [
      "\n",
      "Objective Value: 112298\n",
      "x_0_0 = 1.0\n",
      "x_0_1 = 0.0\n",
      "x_1_0 = 0.0\n",
      "x_1_1 = 1.0\n",
      "x_2_0 = -0.0\n",
      "x_2_1 = 1.0\n",
      "x_3_0 = -0.0\n",
      "x_3_1 = 1.0\n",
      "x_4_0 = -0.0\n",
      "x_4_1 = 1.0\n",
      "slack_0 = 0.0\n",
      "slack_1 = 112051.5\n"
     ]
    }
   ],
   "source": [
    "def printSolution():\n",
    "    if m.status == GRB.OPTIMAL:\n",
    "        print('\\nObjective Value: %g' % m.ObjVal)\n",
    "        for i in range(num_counties):\n",
    "            for j in range(num_districts):\n",
    "                print(\"x_{}_{} = {}\".format(i, j, x[i, j].X))\n",
    "        for j in range(num_districts):\n",
    "            print(\"slack_{} = {}\".format(j, slack[j].X))\n",
    "    else:\n",
    "        print('No solution')\n",
    "\n",
    "printSolution()"
   ]
  }
 ],
 "metadata": {
  "kernelspec": {
   "display_name": "Python310",
   "language": "python",
   "name": "python3"
  },
  "language_info": {
   "codemirror_mode": {
    "name": "ipython",
    "version": 3
   },
   "file_extension": ".py",
   "mimetype": "text/x-python",
   "name": "python",
   "nbconvert_exporter": "python",
   "pygments_lexer": "ipython3",
   "version": "3.10.13"
  }
 },
 "nbformat": 4,
 "nbformat_minor": 2
}
