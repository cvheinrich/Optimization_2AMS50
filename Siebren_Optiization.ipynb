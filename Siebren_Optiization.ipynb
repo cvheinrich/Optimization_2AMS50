{
 "cells": [
  {
   "cell_type": "code",
   "execution_count": 1,
   "metadata": {},
   "outputs": [],
   "source": [
    "import gurobipy as gp\n",
    "from gurobipy import GRB\n",
    "import numpy as np"
   ]
  },
  {
   "cell_type": "code",
   "execution_count": 2,
   "metadata": {},
   "outputs": [
    {
     "name": "stdout",
     "output_type": "stream",
     "text": [
      "Restricted license - for non-production use only - expires 2025-11-24\n"
     ]
    },
    {
     "data": {
      "text/plain": [
       "<gurobi.Model Continuous instance district: 0 constrs, 0 vars, No parameter changes>"
      ]
     },
     "execution_count": 2,
     "metadata": {},
     "output_type": "execute_result"
    }
   ],
   "source": [
    "# Model\n",
    "m = gp.Model(\"district\")\n",
    "m"
   ]
  },
  {
   "cell_type": "code",
   "execution_count": 3,
   "metadata": {},
   "outputs": [
    {
     "ename": "FileNotFoundError",
     "evalue": "[Errno 2] No such file or directory: 'districting_2020\\\\2020\\\\WA\\\\counties\\\\graph\\\\WA.population'",
     "output_type": "error",
     "traceback": [
      "\u001b[1;31m---------------------------------------------------------------------------\u001b[0m",
      "\u001b[1;31mFileNotFoundError\u001b[0m                         Traceback (most recent call last)",
      "Cell \u001b[1;32mIn[3], line 12\u001b[0m\n\u001b[0;32m      8\u001b[0m         \u001b[38;5;28;01mif\u001b[39;00m parts[\u001b[38;5;241m0\u001b[39m] \u001b[38;5;241m==\u001b[39m state:\n\u001b[0;32m      9\u001b[0m             num_districts \u001b[38;5;241m=\u001b[39m \u001b[38;5;28mint\u001b[39m(parts[\u001b[38;5;241m1\u001b[39m])\n\u001b[1;32m---> 12\u001b[0m \u001b[38;5;28;01mwith\u001b[39;00m \u001b[38;5;28;43mopen\u001b[39;49m\u001b[43m(\u001b[49m\u001b[43mpopulation\u001b[49m\u001b[43m,\u001b[49m\u001b[43m \u001b[49m\u001b[38;5;124;43m\"\u001b[39;49m\u001b[38;5;124;43mr\u001b[39;49m\u001b[38;5;124;43m\"\u001b[39;49m\u001b[43m)\u001b[49m \u001b[38;5;28;01mas\u001b[39;00m file:\n\u001b[0;32m     13\u001b[0m     \u001b[38;5;66;03m# Skip the first line\u001b[39;00m\n\u001b[0;32m     14\u001b[0m     \u001b[38;5;28mnext\u001b[39m(file)\n\u001b[0;32m     15\u001b[0m     \u001b[38;5;66;03m# Count the number of lines, each line represents a county\u001b[39;00m\n",
      "File \u001b[1;32mc:\\Users\\20183822\\Anaconda3\\lib\\site-packages\\IPython\\core\\interactiveshell.py:286\u001b[0m, in \u001b[0;36m_modified_open\u001b[1;34m(file, *args, **kwargs)\u001b[0m\n\u001b[0;32m    279\u001b[0m \u001b[38;5;28;01mif\u001b[39;00m file \u001b[38;5;129;01min\u001b[39;00m {\u001b[38;5;241m0\u001b[39m, \u001b[38;5;241m1\u001b[39m, \u001b[38;5;241m2\u001b[39m}:\n\u001b[0;32m    280\u001b[0m     \u001b[38;5;28;01mraise\u001b[39;00m \u001b[38;5;167;01mValueError\u001b[39;00m(\n\u001b[0;32m    281\u001b[0m         \u001b[38;5;124mf\u001b[39m\u001b[38;5;124m\"\u001b[39m\u001b[38;5;124mIPython won\u001b[39m\u001b[38;5;124m'\u001b[39m\u001b[38;5;124mt let you open fd=\u001b[39m\u001b[38;5;132;01m{\u001b[39;00mfile\u001b[38;5;132;01m}\u001b[39;00m\u001b[38;5;124m by default \u001b[39m\u001b[38;5;124m\"\u001b[39m\n\u001b[0;32m    282\u001b[0m         \u001b[38;5;124m\"\u001b[39m\u001b[38;5;124mas it is likely to crash IPython. If you know what you are doing, \u001b[39m\u001b[38;5;124m\"\u001b[39m\n\u001b[0;32m    283\u001b[0m         \u001b[38;5;124m\"\u001b[39m\u001b[38;5;124myou can use builtins\u001b[39m\u001b[38;5;124m'\u001b[39m\u001b[38;5;124m open.\u001b[39m\u001b[38;5;124m\"\u001b[39m\n\u001b[0;32m    284\u001b[0m     )\n\u001b[1;32m--> 286\u001b[0m \u001b[38;5;28;01mreturn\u001b[39;00m io_open(file, \u001b[38;5;241m*\u001b[39margs, \u001b[38;5;241m*\u001b[39m\u001b[38;5;241m*\u001b[39mkwargs)\n",
      "\u001b[1;31mFileNotFoundError\u001b[0m: [Errno 2] No such file or directory: 'districting_2020\\\\2020\\\\WA\\\\counties\\\\graph\\\\WA.population'"
     ]
    }
   ],
   "source": [
    "state = 'WA'\n",
    "population = \"districting_2020\\\\2020\\\\{}\\\\counties\\\\graph\\\\{}.population\".format(state, state)\n",
    "dimacs = \"districting_2020\\\\2020\\\\{}\\\\counties\\\\graph\\\\{}.dimacs\".format(state, state)\n",
    "\n",
    "with open('Numberofdistricts.txt', 'r') as file:\n",
    "    for line in file:\n",
    "        parts = line.strip().split('\\t')\n",
    "        if parts[0] == state:\n",
    "            num_districts = int(parts[1])\n",
    "\n",
    "\n",
    "with open(population, \"r\") as file:\n",
    "    # Skip the first line\n",
    "    next(file)\n",
    "    # Count the number of lines, each line represents a county\n",
    "    num_counties = sum(1 for line in file)\n",
    "\n",
    "num_districts\n"
   ]
  },
  {
   "cell_type": "code",
   "execution_count": 4,
   "metadata": {},
   "outputs": [
    {
     "ename": "FileNotFoundError",
     "evalue": "districting_2020\\2020\\WA\\counties\\graph\\WA_distances.csv not found.",
     "output_type": "error",
     "traceback": [
      "\u001b[1;31m---------------------------------------------------------------------------\u001b[0m",
      "\u001b[1;31mFileNotFoundError\u001b[0m                         Traceback (most recent call last)",
      "Cell \u001b[1;32mIn[4], line 3\u001b[0m\n\u001b[0;32m      1\u001b[0m \u001b[38;5;66;03m## Reading distances from file\u001b[39;00m\n\u001b[0;32m      2\u001b[0m filename \u001b[38;5;241m=\u001b[39m \u001b[38;5;124m\"\u001b[39m\u001b[38;5;124mdistricting_2020\u001b[39m\u001b[38;5;130;01m\\\\\u001b[39;00m\u001b[38;5;124m2020\u001b[39m\u001b[38;5;130;01m\\\\\u001b[39;00m\u001b[38;5;132;01m{}\u001b[39;00m\u001b[38;5;130;01m\\\\\u001b[39;00m\u001b[38;5;124mcounties\u001b[39m\u001b[38;5;130;01m\\\\\u001b[39;00m\u001b[38;5;124mgraph\u001b[39m\u001b[38;5;130;01m\\\\\u001b[39;00m\u001b[38;5;132;01m{}\u001b[39;00m\u001b[38;5;124m_distances.csv\u001b[39m\u001b[38;5;124m\"\u001b[39m\u001b[38;5;241m.\u001b[39mformat(state, state)\n\u001b[1;32m----> 3\u001b[0m d \u001b[38;5;241m=\u001b[39m \u001b[43mnp\u001b[49m\u001b[38;5;241;43m.\u001b[39;49m\u001b[43mgenfromtxt\u001b[49m\u001b[43m(\u001b[49m\u001b[43mfilename\u001b[49m\u001b[43m,\u001b[49m\u001b[43m \u001b[49m\u001b[43mdelimiter\u001b[49m\u001b[38;5;241;43m=\u001b[39;49m\u001b[38;5;124;43m'\u001b[39;49m\u001b[38;5;124;43m,\u001b[39;49m\u001b[38;5;124;43m'\u001b[39;49m\u001b[43m,\u001b[49m\u001b[43m \u001b[49m\u001b[43mskip_header\u001b[49m\u001b[38;5;241;43m=\u001b[39;49m\u001b[38;5;241;43m1\u001b[39;49m\u001b[43m)\u001b[49m\n\u001b[0;32m      4\u001b[0m d \u001b[38;5;241m=\u001b[39m d[:, \u001b[38;5;241m1\u001b[39m:]\n\u001b[0;32m      6\u001b[0m \u001b[38;5;66;03m## Reading populations from file\u001b[39;00m\n",
      "File \u001b[1;32mc:\\Users\\20183822\\Anaconda3\\lib\\site-packages\\numpy\\lib\\npyio.py:1980\u001b[0m, in \u001b[0;36mgenfromtxt\u001b[1;34m(fname, dtype, comments, delimiter, skip_header, skip_footer, converters, missing_values, filling_values, usecols, names, excludelist, deletechars, replace_space, autostrip, case_sensitive, defaultfmt, unpack, usemask, loose, invalid_raise, max_rows, encoding, ndmin, like)\u001b[0m\n\u001b[0;32m   1978\u001b[0m     fname \u001b[38;5;241m=\u001b[39m os_fspath(fname)\n\u001b[0;32m   1979\u001b[0m \u001b[38;5;28;01mif\u001b[39;00m \u001b[38;5;28misinstance\u001b[39m(fname, \u001b[38;5;28mstr\u001b[39m):\n\u001b[1;32m-> 1980\u001b[0m     fid \u001b[38;5;241m=\u001b[39m \u001b[43mnp\u001b[49m\u001b[38;5;241;43m.\u001b[39;49m\u001b[43mlib\u001b[49m\u001b[38;5;241;43m.\u001b[39;49m\u001b[43m_datasource\u001b[49m\u001b[38;5;241;43m.\u001b[39;49m\u001b[43mopen\u001b[49m\u001b[43m(\u001b[49m\u001b[43mfname\u001b[49m\u001b[43m,\u001b[49m\u001b[43m \u001b[49m\u001b[38;5;124;43m'\u001b[39;49m\u001b[38;5;124;43mrt\u001b[39;49m\u001b[38;5;124;43m'\u001b[39;49m\u001b[43m,\u001b[49m\u001b[43m \u001b[49m\u001b[43mencoding\u001b[49m\u001b[38;5;241;43m=\u001b[39;49m\u001b[43mencoding\u001b[49m\u001b[43m)\u001b[49m\n\u001b[0;32m   1981\u001b[0m     fid_ctx \u001b[38;5;241m=\u001b[39m contextlib\u001b[38;5;241m.\u001b[39mclosing(fid)\n\u001b[0;32m   1982\u001b[0m \u001b[38;5;28;01melse\u001b[39;00m:\n",
      "File \u001b[1;32mc:\\Users\\20183822\\Anaconda3\\lib\\site-packages\\numpy\\lib\\_datasource.py:193\u001b[0m, in \u001b[0;36mopen\u001b[1;34m(path, mode, destpath, encoding, newline)\u001b[0m\n\u001b[0;32m    156\u001b[0m \u001b[38;5;250m\u001b[39m\u001b[38;5;124;03m\"\"\"\u001b[39;00m\n\u001b[0;32m    157\u001b[0m \u001b[38;5;124;03mOpen `path` with `mode` and return the file object.\u001b[39;00m\n\u001b[0;32m    158\u001b[0m \n\u001b[1;32m   (...)\u001b[0m\n\u001b[0;32m    189\u001b[0m \n\u001b[0;32m    190\u001b[0m \u001b[38;5;124;03m\"\"\"\u001b[39;00m\n\u001b[0;32m    192\u001b[0m ds \u001b[38;5;241m=\u001b[39m DataSource(destpath)\n\u001b[1;32m--> 193\u001b[0m \u001b[38;5;28;01mreturn\u001b[39;00m \u001b[43mds\u001b[49m\u001b[38;5;241;43m.\u001b[39;49m\u001b[43mopen\u001b[49m\u001b[43m(\u001b[49m\u001b[43mpath\u001b[49m\u001b[43m,\u001b[49m\u001b[43m \u001b[49m\u001b[43mmode\u001b[49m\u001b[43m,\u001b[49m\u001b[43m \u001b[49m\u001b[43mencoding\u001b[49m\u001b[38;5;241;43m=\u001b[39;49m\u001b[43mencoding\u001b[49m\u001b[43m,\u001b[49m\u001b[43m \u001b[49m\u001b[43mnewline\u001b[49m\u001b[38;5;241;43m=\u001b[39;49m\u001b[43mnewline\u001b[49m\u001b[43m)\u001b[49m\n",
      "File \u001b[1;32mc:\\Users\\20183822\\Anaconda3\\lib\\site-packages\\numpy\\lib\\_datasource.py:533\u001b[0m, in \u001b[0;36mDataSource.open\u001b[1;34m(self, path, mode, encoding, newline)\u001b[0m\n\u001b[0;32m    530\u001b[0m     \u001b[38;5;28;01mreturn\u001b[39;00m _file_openers[ext](found, mode\u001b[38;5;241m=\u001b[39mmode,\n\u001b[0;32m    531\u001b[0m                               encoding\u001b[38;5;241m=\u001b[39mencoding, newline\u001b[38;5;241m=\u001b[39mnewline)\n\u001b[0;32m    532\u001b[0m \u001b[38;5;28;01melse\u001b[39;00m:\n\u001b[1;32m--> 533\u001b[0m     \u001b[38;5;28;01mraise\u001b[39;00m \u001b[38;5;167;01mFileNotFoundError\u001b[39;00m(\u001b[38;5;124mf\u001b[39m\u001b[38;5;124m\"\u001b[39m\u001b[38;5;132;01m{\u001b[39;00mpath\u001b[38;5;132;01m}\u001b[39;00m\u001b[38;5;124m not found.\u001b[39m\u001b[38;5;124m\"\u001b[39m)\n",
      "\u001b[1;31mFileNotFoundError\u001b[0m: districting_2020\\2020\\WA\\counties\\graph\\WA_distances.csv not found."
     ]
    }
   ],
   "source": [
    "## Reading distances from file\n",
    "filename = \"districting_2020\\\\2020\\\\{}\\\\counties\\\\graph\\\\{}_distances.csv\".format(state, state)\n",
    "d = np.genfromtxt(filename, delimiter=',', skip_header=1)\n",
    "d = d[:, 1:]\n",
    "\n",
    "## Reading populations from file\n",
    "with open(population, 'r') as file:\n",
    "    # Read the total population from the first line\n",
    "    total_population_line = next(file).strip()  # Removes newline character at the end\n",
    "    total_population = int(total_population_line.split('=')[1].strip())\n",
    "    \n",
    "    # Initialize a dictionary to store the rest of the data\n",
    "    p = {}\n",
    "    \n",
    "    # Iterate over the remaining lines\n",
    "    for line in file:\n",
    "        # Each line is expected to have two values, separated by a space\n",
    "        key, value = line.strip().split()  # Split by whitespace\n",
    "        p[int(key)] = int(value)  # Convert both to integers and store in the dictionary\n",
    "\n",
    "## Reading neighbors from file\n",
    "neighbors = set()\n",
    "with open(dimacs, 'r') as f:\n",
    "    lines = f.readlines()\n",
    "    for line in lines:\n",
    "        if line.startswith('e'):\n",
    "            _, node1, node2 = line.split()\n",
    "            node1 = int(node1)\n",
    "            node2 = int(node2)\n",
    "            if (node1, node2) not in neighbors and (node2, node1) not in neighbors:\n",
    "                neighbors.add((node1, node2))\n",
    "\n",
    "list(neighbors)"
   ]
  },
  {
   "cell_type": "code",
   "execution_count": 5,
   "metadata": {},
   "outputs": [
    {
     "ename": "NameError",
     "evalue": "name 'num_counties' is not defined",
     "output_type": "error",
     "traceback": [
      "\u001b[1;31m---------------------------------------------------------------------------\u001b[0m",
      "\u001b[1;31mNameError\u001b[0m                                 Traceback (most recent call last)",
      "Cell \u001b[1;32mIn[5], line 5\u001b[0m\n\u001b[0;32m      3\u001b[0m \u001b[38;5;66;03m# Set decision variable x for each node i whether it is in district j\u001b[39;00m\n\u001b[0;32m      4\u001b[0m x \u001b[38;5;241m=\u001b[39m {}\n\u001b[1;32m----> 5\u001b[0m \u001b[38;5;28;01mfor\u001b[39;00m i \u001b[38;5;129;01min\u001b[39;00m \u001b[38;5;28mrange\u001b[39m(\u001b[43mnum_counties\u001b[49m):\n\u001b[0;32m      6\u001b[0m     \u001b[38;5;28;01mfor\u001b[39;00m j \u001b[38;5;129;01min\u001b[39;00m \u001b[38;5;28mrange\u001b[39m(num_districts):\n\u001b[0;32m      7\u001b[0m         x[i, j] \u001b[38;5;241m=\u001b[39m m\u001b[38;5;241m.\u001b[39maddVar(vtype\u001b[38;5;241m=\u001b[39mgp\u001b[38;5;241m.\u001b[39mGRB\u001b[38;5;241m.\u001b[39mBINARY, name\u001b[38;5;241m=\u001b[39m\u001b[38;5;124m\"\u001b[39m\u001b[38;5;124mx_\u001b[39m\u001b[38;5;132;01m{}\u001b[39;00m\u001b[38;5;124m_\u001b[39m\u001b[38;5;132;01m{}\u001b[39;00m\u001b[38;5;124m\"\u001b[39m\u001b[38;5;241m.\u001b[39mformat(i, j))\n",
      "\u001b[1;31mNameError\u001b[0m: name 'num_counties' is not defined"
     ]
    }
   ],
   "source": [
    "adjacency_matrix_file = r\"districting_2020\\\\2020\\\\{}\\\\counties\\\\graph\\\\{}_distances.csv\".format(state, state)\n",
    "\n",
    "# Set decision variable x for each node i whether it is in district j\n",
    "x = {}\n",
    "for i in range(num_counties):\n",
    "    for j in range(num_districts):\n",
    "        x[i, j] = m.addVar(vtype=gp.GRB.BINARY, name=\"x_{}_{}\".format(i, j))\n",
    "\n",
    "## Set decision variable y for each edge in neighbors, between nodes i and k, for each district j\n",
    "y = {}\n",
    "for i, k in neighbors:\n",
    "    for j in range(num_districts):\n",
    "        y[i, k, j] = m.addVar(vtype=gp.GRB.BINARY, name=\"y_{}_{}_{}\".format(i, k, j))\n",
    "\n",
    "# for i in range(num_counties):\n",
    "#     for k in range(num_counties):\n",
    "#         for j in range(num_districts):\n",
    "#             y[i, k, j] = m.addVar(vtype=gp.GRB.BINARY, name=\"y_{}_{}_{}\".format(i, k, j))\n",
    "\n",
    "# Set slack variable\n",
    "slack = {}\n",
    "for j in range(num_districts):\n",
    "    slack[j] = m.addVar(obj=1, name=\"slack\")\n",
    "\n",
    "\n",
    "\n",
    "\n",
    "alpha = 1  # Weight of the balanced weight term\n",
    "y\n"
   ]
  },
  {
   "cell_type": "code",
   "execution_count": 6,
   "metadata": {},
   "outputs": [
    {
     "ename": "NameError",
     "evalue": "name 'neighbors' is not defined",
     "output_type": "error",
     "traceback": [
      "\u001b[1;31m---------------------------------------------------------------------------\u001b[0m",
      "\u001b[1;31mNameError\u001b[0m                                 Traceback (most recent call last)",
      "Cell \u001b[1;32mIn[6], line 2\u001b[0m\n\u001b[0;32m      1\u001b[0m \u001b[38;5;66;03m# Set objective function\u001b[39;00m\n\u001b[1;32m----> 2\u001b[0m m\u001b[38;5;241m.\u001b[39msetObjective(gp\u001b[38;5;241m.\u001b[39mquicksum(y[i, k, j] \u001b[38;5;241m*\u001b[39m d[i, k] \u001b[38;5;28;01mfor\u001b[39;00m i, k \u001b[38;5;129;01min\u001b[39;00m \u001b[43mneighbors\u001b[49m \u001b[38;5;28;01mfor\u001b[39;00m j \u001b[38;5;129;01min\u001b[39;00m \u001b[38;5;28mrange\u001b[39m(num_districts)) \\\n\u001b[0;32m      3\u001b[0m              \u001b[38;5;241m+\u001b[39m alpha \u001b[38;5;241m*\u001b[39m (gp\u001b[38;5;241m.\u001b[39mquicksum(slack[j] \u001b[38;5;28;01mfor\u001b[39;00m j \u001b[38;5;129;01min\u001b[39;00m \u001b[38;5;28mrange\u001b[39m(num_districts))), gp\u001b[38;5;241m.\u001b[39mGRB\u001b[38;5;241m.\u001b[39mMINIMIZE)\n",
      "\u001b[1;31mNameError\u001b[0m: name 'neighbors' is not defined"
     ]
    }
   ],
   "source": [
    "# Set objective function\n",
    "m.setObjective(gp.quicksum(y[i, k, j] * d[i, k] for i, k in neighbors for j in range(num_districts)) \\\n",
    "             + alpha * (gp.quicksum(slack[j] for j in range(num_districts))), gp.GRB.MINIMIZE)\n"
   ]
  },
  {
   "cell_type": "code",
   "execution_count": 7,
   "metadata": {},
   "outputs": [
    {
     "ename": "NameError",
     "evalue": "name 'neighbors' is not defined",
     "output_type": "error",
     "traceback": [
      "\u001b[1;31m---------------------------------------------------------------------------\u001b[0m",
      "\u001b[1;31mNameError\u001b[0m                                 Traceback (most recent call last)",
      "Cell \u001b[1;32mIn[7], line 2\u001b[0m\n\u001b[0;32m      1\u001b[0m \u001b[38;5;66;03m# Set objective function\u001b[39;00m\n\u001b[1;32m----> 2\u001b[0m m\u001b[38;5;241m.\u001b[39msetObjective(gp\u001b[38;5;241m.\u001b[39mquicksum(y[i, k, j] \u001b[38;5;241m*\u001b[39m d[i, k] \u001b[38;5;28;01mfor\u001b[39;00m i, k \u001b[38;5;129;01min\u001b[39;00m \u001b[43mneighbors\u001b[49m \u001b[38;5;28;01mfor\u001b[39;00m j \u001b[38;5;129;01min\u001b[39;00m \u001b[38;5;28mrange\u001b[39m(num_districts)) \\\n\u001b[0;32m      3\u001b[0m              \u001b[38;5;241m+\u001b[39m alpha \u001b[38;5;241m*\u001b[39m (gp\u001b[38;5;241m.\u001b[39mquicksum(slack[j] \u001b[38;5;28;01mfor\u001b[39;00m j \u001b[38;5;129;01min\u001b[39;00m \u001b[38;5;28mrange\u001b[39m(num_districts))), gp\u001b[38;5;241m.\u001b[39mGRB\u001b[38;5;241m.\u001b[39mMINIMIZE)\n",
      "\u001b[1;31mNameError\u001b[0m: name 'neighbors' is not defined"
     ]
    }
   ],
   "source": [
    "# Set objective function\n",
    "m.setObjective(gp.quicksum(y[i, k, j] * d[i, k] for i, k in neighbors for j in range(num_districts)) \\\n",
    "             + alpha * (gp.quicksum(slack[j] for j in range(num_districts))), gp.GRB.MINIMIZE)\n"
   ]
  },
  {
   "cell_type": "code",
   "execution_count": 9,
   "metadata": {},
   "outputs": [
    {
     "name": "stdout",
     "output_type": "stream",
     "text": [
      "LP Formulation:\n",
      "\\ Model district\n",
      "\\ LP format - for model browsing. Use MPS format to capture full model detail.\n",
      "Minimize\n",
      " \n",
      "Subject To\n",
      "Bounds\n",
      "End\n",
      "\n",
      "Gurobi Optimizer version 11.0.1 build v11.0.1rc0 (win64 - Windows 10.0 (19045.2))\n",
      "\n",
      "CPU model: Intel(R) Core(TM) i7-7700HQ CPU @ 2.80GHz, instruction set [SSE2|AVX|AVX2]\n",
      "Thread count: 4 physical cores, 8 logical processors, using up to 8 threads\n",
      "\n",
      "Optimize a model with 0 rows, 0 columns and 0 nonzeros\n",
      "Coefficient statistics:\n",
      "  Matrix range     [0e+00, 0e+00]\n",
      "  Objective range  [0e+00, 0e+00]\n",
      "  Bounds range     [0e+00, 0e+00]\n",
      "  RHS range        [0e+00, 0e+00]\n",
      "\n",
      "Solved in 0 iterations and 0.01 seconds (0.00 work units)\n",
      "Optimal objective  0.000000000e+00\n"
     ]
    }
   ],
   "source": [
    "# Write LP formulation to a file\n",
    "m.write(\"districts.lp\")\n",
    "\n",
    "# Read the LP formulation from the file\n",
    "with open(\"districts.lp\", \"r\") as f:\n",
    "    lp_formulation = f.read()\n",
    "\n",
    "# Print LP formulation\n",
    "print(\"LP Formulation:\")\n",
    "print(lp_formulation)\n",
    "\n",
    "# Solve\n",
    "m.optimize()"
   ]
  },
  {
   "cell_type": "code",
   "execution_count": 10,
   "metadata": {},
   "outputs": [
    {
     "name": "stdout",
     "output_type": "stream",
     "text": [
      "\n",
      "Objective Value: 0\n"
     ]
    },
    {
     "ename": "NameError",
     "evalue": "name 'num_counties' is not defined",
     "output_type": "error",
     "traceback": [
      "\u001b[1;31m---------------------------------------------------------------------------\u001b[0m",
      "\u001b[1;31mNameError\u001b[0m                                 Traceback (most recent call last)",
      "Cell \u001b[1;32mIn[10], line 12\u001b[0m\n\u001b[0;32m      9\u001b[0m     \u001b[38;5;28;01melse\u001b[39;00m:\n\u001b[0;32m     10\u001b[0m         \u001b[38;5;28mprint\u001b[39m(\u001b[38;5;124m'\u001b[39m\u001b[38;5;124mNo solution\u001b[39m\u001b[38;5;124m'\u001b[39m)\n\u001b[1;32m---> 12\u001b[0m \u001b[43mprintSolution\u001b[49m\u001b[43m(\u001b[49m\u001b[43m)\u001b[49m\n",
      "Cell \u001b[1;32mIn[10], line 4\u001b[0m, in \u001b[0;36mprintSolution\u001b[1;34m()\u001b[0m\n\u001b[0;32m      2\u001b[0m \u001b[38;5;28;01mif\u001b[39;00m m\u001b[38;5;241m.\u001b[39mstatus \u001b[38;5;241m==\u001b[39m GRB\u001b[38;5;241m.\u001b[39mOPTIMAL:\n\u001b[0;32m      3\u001b[0m     \u001b[38;5;28mprint\u001b[39m(\u001b[38;5;124m'\u001b[39m\u001b[38;5;130;01m\\n\u001b[39;00m\u001b[38;5;124mObjective Value: \u001b[39m\u001b[38;5;132;01m%g\u001b[39;00m\u001b[38;5;124m'\u001b[39m \u001b[38;5;241m%\u001b[39m m\u001b[38;5;241m.\u001b[39mObjVal)\n\u001b[1;32m----> 4\u001b[0m     \u001b[38;5;28;01mfor\u001b[39;00m i \u001b[38;5;129;01min\u001b[39;00m \u001b[38;5;28mrange\u001b[39m(\u001b[43mnum_counties\u001b[49m):\n\u001b[0;32m      5\u001b[0m         \u001b[38;5;28;01mfor\u001b[39;00m j \u001b[38;5;129;01min\u001b[39;00m \u001b[38;5;28mrange\u001b[39m(num_districts):\n\u001b[0;32m      6\u001b[0m             \u001b[38;5;28mprint\u001b[39m(\u001b[38;5;124m\"\u001b[39m\u001b[38;5;124mx_\u001b[39m\u001b[38;5;132;01m{}\u001b[39;00m\u001b[38;5;124m_\u001b[39m\u001b[38;5;132;01m{}\u001b[39;00m\u001b[38;5;124m = \u001b[39m\u001b[38;5;132;01m{}\u001b[39;00m\u001b[38;5;124m\"\u001b[39m\u001b[38;5;241m.\u001b[39mformat(i, j, x[i, j]\u001b[38;5;241m.\u001b[39mX))\n",
      "\u001b[1;31mNameError\u001b[0m: name 'num_counties' is not defined"
     ]
    }
   ],
   "source": [
    "def printSolution():\n",
    "    if m.status == GRB.OPTIMAL:\n",
    "        print('\\nObjective Value: %g' % m.ObjVal)\n",
    "        for i in range(num_counties):\n",
    "            for j in range(num_districts):\n",
    "                print(\"x_{}_{} = {}\".format(i, j, x[i, j].X))\n",
    "        for j in range(num_districts):\n",
    "            print(\"slack_{} = {}\".format(j, slack[j].X))\n",
    "    else:\n",
    "        print('No solution')\n",
    "\n",
    "printSolution()"
   ]
  },
  {
   "cell_type": "code",
   "execution_count": 12,
   "metadata": {},
   "outputs": [
    {
     "ename": "DriverError",
     "evalue": "districting_2020/2020/WA/counties/maps/WA_counties.shp: No such file or directory",
     "output_type": "error",
     "traceback": [
      "\u001b[1;31m---------------------------------------------------------------------------\u001b[0m",
      "\u001b[1;31mCPLE_OpenFailedError\u001b[0m                      Traceback (most recent call last)",
      "File \u001b[1;32mfiona\\\\ogrext.pyx:136\u001b[0m, in \u001b[0;36mfiona.ogrext.gdal_open_vector\u001b[1;34m()\u001b[0m\n",
      "File \u001b[1;32mfiona\\\\_err.pyx:291\u001b[0m, in \u001b[0;36mfiona._err.exc_wrap_pointer\u001b[1;34m()\u001b[0m\n",
      "\u001b[1;31mCPLE_OpenFailedError\u001b[0m: districting_2020/2020/WA/counties/maps/WA_counties.shp: No such file or directory",
      "\nDuring handling of the above exception, another exception occurred:\n",
      "\u001b[1;31mDriverError\u001b[0m                               Traceback (most recent call last)",
      "Cell \u001b[1;32mIn[12], line 6\u001b[0m\n\u001b[0;32m      4\u001b[0m path_to_visualize \u001b[38;5;241m=\u001b[39m \u001b[38;5;124m\"\u001b[39m\u001b[38;5;124mdistricting_2020/2020/\u001b[39m\u001b[38;5;132;01m{}\u001b[39;00m\u001b[38;5;124m/counties/maps/\u001b[39m\u001b[38;5;132;01m{}\u001b[39;00m\u001b[38;5;124m_counties.shp\u001b[39m\u001b[38;5;124m\"\u001b[39m\u001b[38;5;241m.\u001b[39mformat(state, state)\n\u001b[0;32m      5\u001b[0m \u001b[38;5;66;03m# Load the shapefile\u001b[39;00m\n\u001b[1;32m----> 6\u001b[0m counties_gdf \u001b[38;5;241m=\u001b[39m \u001b[43mgpd\u001b[49m\u001b[38;5;241;43m.\u001b[39;49m\u001b[43mread_file\u001b[49m\u001b[43m(\u001b[49m\u001b[43mpath_to_visualize\u001b[49m\u001b[43m)\u001b[49m\n\u001b[0;32m      9\u001b[0m counties\u001b[38;5;241m.\u001b[39mplot(column\u001b[38;5;241m=\u001b[39m\u001b[38;5;124m'\u001b[39m\u001b[38;5;124mNAME20\u001b[39m\u001b[38;5;124m'\u001b[39m, legend \u001b[38;5;241m=\u001b[39m \u001b[38;5;28;01mTrue\u001b[39;00m)\n\u001b[0;32m     10\u001b[0m plt\u001b[38;5;241m.\u001b[39mshow()\n",
      "File \u001b[1;32mc:\\Users\\20183822\\Anaconda3\\lib\\site-packages\\geopandas\\io\\file.py:297\u001b[0m, in \u001b[0;36m_read_file\u001b[1;34m(filename, bbox, mask, rows, engine, **kwargs)\u001b[0m\n\u001b[0;32m    294\u001b[0m     \u001b[38;5;28;01melse\u001b[39;00m:\n\u001b[0;32m    295\u001b[0m         path_or_bytes \u001b[38;5;241m=\u001b[39m filename\n\u001b[1;32m--> 297\u001b[0m     \u001b[38;5;28;01mreturn\u001b[39;00m _read_file_fiona(\n\u001b[0;32m    298\u001b[0m         path_or_bytes, from_bytes, bbox\u001b[38;5;241m=\u001b[39mbbox, mask\u001b[38;5;241m=\u001b[39mmask, rows\u001b[38;5;241m=\u001b[39mrows, \u001b[38;5;241m*\u001b[39m\u001b[38;5;241m*\u001b[39mkwargs\n\u001b[0;32m    299\u001b[0m     )\n\u001b[0;32m    301\u001b[0m \u001b[38;5;28;01melse\u001b[39;00m:\n\u001b[0;32m    302\u001b[0m     \u001b[38;5;28;01mraise\u001b[39;00m \u001b[38;5;167;01mValueError\u001b[39;00m(\u001b[38;5;124mf\u001b[39m\u001b[38;5;124m\"\u001b[39m\u001b[38;5;124munknown engine \u001b[39m\u001b[38;5;124m'\u001b[39m\u001b[38;5;132;01m{\u001b[39;00mengine\u001b[38;5;132;01m}\u001b[39;00m\u001b[38;5;124m'\u001b[39m\u001b[38;5;124m\"\u001b[39m)\n",
      "File \u001b[1;32mc:\\Users\\20183822\\Anaconda3\\lib\\site-packages\\geopandas\\io\\file.py:338\u001b[0m, in \u001b[0;36m_read_file_fiona\u001b[1;34m(path_or_bytes, from_bytes, bbox, mask, rows, where, **kwargs)\u001b[0m\n\u001b[0;32m    335\u001b[0m     reader \u001b[38;5;241m=\u001b[39m fiona\u001b[38;5;241m.\u001b[39mopen\n\u001b[0;32m    337\u001b[0m \u001b[38;5;28;01mwith\u001b[39;00m fiona_env():\n\u001b[1;32m--> 338\u001b[0m     \u001b[38;5;28;01mwith\u001b[39;00m reader(path_or_bytes, \u001b[38;5;241m*\u001b[39m\u001b[38;5;241m*\u001b[39mkwargs) \u001b[38;5;28;01mas\u001b[39;00m features:\n\u001b[0;32m    339\u001b[0m         crs \u001b[38;5;241m=\u001b[39m features\u001b[38;5;241m.\u001b[39mcrs_wkt\n\u001b[0;32m    340\u001b[0m         \u001b[38;5;66;03m# attempt to get EPSG code\u001b[39;00m\n",
      "File \u001b[1;32mc:\\Users\\20183822\\Anaconda3\\lib\\site-packages\\fiona\\env.py:457\u001b[0m, in \u001b[0;36mensure_env_with_credentials.<locals>.wrapper\u001b[1;34m(*args, **kwds)\u001b[0m\n\u001b[0;32m    454\u001b[0m     session \u001b[38;5;241m=\u001b[39m DummySession()\n\u001b[0;32m    456\u001b[0m \u001b[38;5;28;01mwith\u001b[39;00m env_ctor(session\u001b[38;5;241m=\u001b[39msession):\n\u001b[1;32m--> 457\u001b[0m     \u001b[38;5;28;01mreturn\u001b[39;00m f(\u001b[38;5;241m*\u001b[39margs, \u001b[38;5;241m*\u001b[39m\u001b[38;5;241m*\u001b[39mkwds)\n",
      "File \u001b[1;32mc:\\Users\\20183822\\Anaconda3\\lib\\site-packages\\fiona\\__init__.py:319\u001b[0m, in \u001b[0;36mopen\u001b[1;34m(fp, mode, driver, schema, crs, encoding, layer, vfs, enabled_drivers, crs_wkt, allow_unsupported_drivers, **kwargs)\u001b[0m\n\u001b[0;32m    316\u001b[0m     path \u001b[38;5;241m=\u001b[39m parse_path(fp)\n\u001b[0;32m    318\u001b[0m \u001b[38;5;28;01mif\u001b[39;00m mode \u001b[38;5;129;01min\u001b[39;00m (\u001b[38;5;124m\"\u001b[39m\u001b[38;5;124ma\u001b[39m\u001b[38;5;124m\"\u001b[39m, \u001b[38;5;124m\"\u001b[39m\u001b[38;5;124mr\u001b[39m\u001b[38;5;124m\"\u001b[39m):\n\u001b[1;32m--> 319\u001b[0m     colxn \u001b[38;5;241m=\u001b[39m Collection(\n\u001b[0;32m    320\u001b[0m         path,\n\u001b[0;32m    321\u001b[0m         mode,\n\u001b[0;32m    322\u001b[0m         driver\u001b[38;5;241m=\u001b[39mdriver,\n\u001b[0;32m    323\u001b[0m         encoding\u001b[38;5;241m=\u001b[39mencoding,\n\u001b[0;32m    324\u001b[0m         layer\u001b[38;5;241m=\u001b[39mlayer,\n\u001b[0;32m    325\u001b[0m         enabled_drivers\u001b[38;5;241m=\u001b[39menabled_drivers,\n\u001b[0;32m    326\u001b[0m         allow_unsupported_drivers\u001b[38;5;241m=\u001b[39mallow_unsupported_drivers,\n\u001b[0;32m    327\u001b[0m         \u001b[38;5;241m*\u001b[39m\u001b[38;5;241m*\u001b[39mkwargs\n\u001b[0;32m    328\u001b[0m     )\n\u001b[0;32m    329\u001b[0m \u001b[38;5;28;01melif\u001b[39;00m mode \u001b[38;5;241m==\u001b[39m \u001b[38;5;124m\"\u001b[39m\u001b[38;5;124mw\u001b[39m\u001b[38;5;124m\"\u001b[39m:\n\u001b[0;32m    330\u001b[0m     colxn \u001b[38;5;241m=\u001b[39m Collection(\n\u001b[0;32m    331\u001b[0m         path,\n\u001b[0;32m    332\u001b[0m         mode,\n\u001b[1;32m   (...)\u001b[0m\n\u001b[0;32m    341\u001b[0m         \u001b[38;5;241m*\u001b[39m\u001b[38;5;241m*\u001b[39mkwargs\n\u001b[0;32m    342\u001b[0m     )\n",
      "File \u001b[1;32mc:\\Users\\20183822\\Anaconda3\\lib\\site-packages\\fiona\\collection.py:243\u001b[0m, in \u001b[0;36mCollection.__init__\u001b[1;34m(self, path, mode, driver, schema, crs, encoding, layer, vsi, archive, enabled_drivers, crs_wkt, ignore_fields, ignore_geometry, include_fields, wkt_version, allow_unsupported_drivers, **kwargs)\u001b[0m\n\u001b[0;32m    241\u001b[0m \u001b[38;5;28;01mif\u001b[39;00m \u001b[38;5;28mself\u001b[39m\u001b[38;5;241m.\u001b[39mmode \u001b[38;5;241m==\u001b[39m \u001b[38;5;124m\"\u001b[39m\u001b[38;5;124mr\u001b[39m\u001b[38;5;124m\"\u001b[39m:\n\u001b[0;32m    242\u001b[0m     \u001b[38;5;28mself\u001b[39m\u001b[38;5;241m.\u001b[39msession \u001b[38;5;241m=\u001b[39m Session()\n\u001b[1;32m--> 243\u001b[0m     \u001b[38;5;28mself\u001b[39m\u001b[38;5;241m.\u001b[39msession\u001b[38;5;241m.\u001b[39mstart(\u001b[38;5;28mself\u001b[39m, \u001b[38;5;241m*\u001b[39m\u001b[38;5;241m*\u001b[39mkwargs)\n\u001b[0;32m    244\u001b[0m \u001b[38;5;28;01melif\u001b[39;00m \u001b[38;5;28mself\u001b[39m\u001b[38;5;241m.\u001b[39mmode \u001b[38;5;129;01min\u001b[39;00m (\u001b[38;5;124m\"\u001b[39m\u001b[38;5;124ma\u001b[39m\u001b[38;5;124m\"\u001b[39m, \u001b[38;5;124m\"\u001b[39m\u001b[38;5;124mw\u001b[39m\u001b[38;5;124m\"\u001b[39m):\n\u001b[0;32m    245\u001b[0m     \u001b[38;5;28mself\u001b[39m\u001b[38;5;241m.\u001b[39msession \u001b[38;5;241m=\u001b[39m WritingSession()\n",
      "File \u001b[1;32mfiona\\\\ogrext.pyx:588\u001b[0m, in \u001b[0;36mfiona.ogrext.Session.start\u001b[1;34m()\u001b[0m\n",
      "File \u001b[1;32mfiona\\\\ogrext.pyx:143\u001b[0m, in \u001b[0;36mfiona.ogrext.gdal_open_vector\u001b[1;34m()\u001b[0m\n",
      "\u001b[1;31mDriverError\u001b[0m: districting_2020/2020/WA/counties/maps/WA_counties.shp: No such file or directory"
     ]
    }
   ],
   "source": [
    "import geopandas as gpd\n",
    "import matplotlib.pyplot as plt\n",
    "\n",
    "path_to_visualize = \"districting_2020/2020/{}/counties/maps/{}_counties.shp\".format(state, state)\n",
    "# Load the shapefile\n",
    "counties_gdf = gpd.read_file(path_to_visualize)\n",
    "\n",
    "\n",
    "counties_gdf.plot(column='NAME20', legend = True)\n",
    "plt.show()\n"
   ]
  },
  {
   "cell_type": "code",
   "execution_count": 13,
   "metadata": {},
   "outputs": [
    {
     "ename": "NameError",
     "evalue": "name 'num_counties' is not defined",
     "output_type": "error",
     "traceback": [
      "\u001b[1;31m---------------------------------------------------------------------------\u001b[0m",
      "\u001b[1;31mNameError\u001b[0m                                 Traceback (most recent call last)",
      "Cell \u001b[1;32mIn[13], line 15\u001b[0m\n\u001b[0;32m     13\u001b[0m \u001b[38;5;66;03m# Assuming the model has been optimized\u001b[39;00m\n\u001b[0;32m     14\u001b[0m \u001b[38;5;28;01mif\u001b[39;00m m\u001b[38;5;241m.\u001b[39mstatus \u001b[38;5;241m==\u001b[39m GRB\u001b[38;5;241m.\u001b[39mOPTIMAL:\n\u001b[1;32m---> 15\u001b[0m     district_counties \u001b[38;5;241m=\u001b[39m \u001b[43mget_district_counties\u001b[49m\u001b[43m(\u001b[49m\u001b[43m)\u001b[49m\n\u001b[0;32m     16\u001b[0m     \u001b[38;5;28;01mfor\u001b[39;00m j, counties \u001b[38;5;129;01min\u001b[39;00m district_counties\u001b[38;5;241m.\u001b[39mitems():\n\u001b[0;32m     17\u001b[0m         \u001b[38;5;28mprint\u001b[39m(\u001b[38;5;124mf\u001b[39m\u001b[38;5;124m\"\u001b[39m\u001b[38;5;124mDistrict \u001b[39m\u001b[38;5;132;01m{\u001b[39;00mj\u001b[38;5;132;01m}\u001b[39;00m\u001b[38;5;124m contains counties: \u001b[39m\u001b[38;5;132;01m{\u001b[39;00mcounties\u001b[38;5;132;01m}\u001b[39;00m\u001b[38;5;124m\"\u001b[39m)\n",
      "Cell \u001b[1;32mIn[13], line 6\u001b[0m, in \u001b[0;36mget_district_counties\u001b[1;34m()\u001b[0m\n\u001b[0;32m      3\u001b[0m district_counties \u001b[38;5;241m=\u001b[39m {j: \u001b[38;5;28mset\u001b[39m() \u001b[38;5;28;01mfor\u001b[39;00m j \u001b[38;5;129;01min\u001b[39;00m \u001b[38;5;28mrange\u001b[39m(num_districts)}\n\u001b[0;32m      5\u001b[0m \u001b[38;5;66;03m# Iterate over x variables to find counties assigned to each district\u001b[39;00m\n\u001b[1;32m----> 6\u001b[0m \u001b[38;5;28;01mfor\u001b[39;00m i \u001b[38;5;129;01min\u001b[39;00m \u001b[38;5;28mrange\u001b[39m(\u001b[43mnum_counties\u001b[49m):\n\u001b[0;32m      7\u001b[0m     \u001b[38;5;28;01mfor\u001b[39;00m j \u001b[38;5;129;01min\u001b[39;00m \u001b[38;5;28mrange\u001b[39m(num_districts):\n\u001b[0;32m      8\u001b[0m         \u001b[38;5;28;01mif\u001b[39;00m x[i, j]\u001b[38;5;241m.\u001b[39mX \u001b[38;5;241m>\u001b[39m \u001b[38;5;241m0.5\u001b[39m:  \u001b[38;5;66;03m# County is part of the district\u001b[39;00m\n",
      "\u001b[1;31mNameError\u001b[0m: name 'num_counties' is not defined"
     ]
    }
   ],
   "source": [
    "def get_district_counties():\n",
    "    # Initialize a dictionary to hold counties for each district\n",
    "    district_counties = {j: set() for j in range(num_districts)}\n",
    "\n",
    "    # Iterate over x variables to find counties assigned to each district\n",
    "    for i in range(num_counties):\n",
    "        for j in range(num_districts):\n",
    "            if x[i, j].X > 0.5:  # County is part of the district\n",
    "                district_counties[j].add(i)\n",
    "    \n",
    "    return district_counties\n",
    "\n",
    "# Assuming the model has been optimized\n",
    "if m.status == GRB.OPTIMAL:\n",
    "    district_counties = get_district_counties()\n",
    "    for j, counties in district_counties.items():\n",
    "        print(f\"District {j} contains counties: {counties}\")\n",
    "else:\n",
    "    print(\"No solution\")\n"
   ]
  },
  {
   "cell_type": "code",
   "execution_count": null,
   "metadata": {},
   "outputs": [],
   "source": [
    "\n",
    "import networkx as nx\n",
    "\n",
    "path_to_visualize = \"districting_2020/2020/{}/counties/maps/{}_counties.shp\".format(state, state)\n",
    "# Load the shapefile\n",
    "counties_gdf = gpd.read_file(path_to_visualize)\n",
    "\n",
    "# Example: Assuming 'county_id' is a column in your GeoDataFrame that matches keys used in your model\n",
    "counties_gdf['county_id'] = range(len(counties_gdf))\n",
    "counties_gdf['district'] = -1  # Initialize with -1 or another placeholder value\n",
    "\n",
    "# Assuming district_counties is already filled from your optimization model\n",
    "for district, counties in district_counties.items():\n",
    "    for county in counties:\n",
    "        # Update the 'district' column based on your county-to-district assignments\n",
    "        # You may need to adjust the condition to match your GeoDataFrame's county identifiers\n",
    "        counties_gdf.loc[counties_gdf['county_id'] == county, 'district'] = district\n",
    "\n",
    "\n",
    "import matplotlib.pyplot as plt\n",
    "\n",
    "# Ensure that the 'district' column exists and has been correctly populated\n",
    "fig, ax = plt.subplots(figsize=(10, 10))\n",
    "counties_gdf.plot(column='district', ax=ax, legend=True, categorical=True, legend_kwds={'title': 'District'})\n",
    "plt.show()\n"
   ]
  }
 ],
 "metadata": {
  "kernelspec": {
   "display_name": "base",
   "language": "python",
   "name": "python3"
  },
  "language_info": {
   "codemirror_mode": {
    "name": "ipython",
    "version": 3
   },
   "file_extension": ".py",
   "mimetype": "text/x-python",
   "name": "python",
   "nbconvert_exporter": "python",
   "pygments_lexer": "ipython3",
   "version": "3.9.18"
  }
 },
 "nbformat": 4,
 "nbformat_minor": 2
}
